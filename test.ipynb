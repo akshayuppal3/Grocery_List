{
 "cells": [
  {
   "cell_type": "code",
   "execution_count": 5,
   "metadata": {},
   "outputs": [
    {
     "name": "stdout",
     "output_type": "stream",
     "text": [
      "{'url': 'https://i0.wp.com/www.printablesample.com/wp-content/uploads/2017/03/Grocery-Receipt-1.jpg'}\n"
     ]
    }
   ],
   "source": [
    "import numpy as np\n",
    "# import urllib, cStringIO\n",
    "\n",
    "# file = cStringIO.StringIO(urllib.urlopen(URL).read())\n",
    "# img = Image.open(file)\n",
    "\n",
    "subscription_key = \"d2cb2bb957de407082bc450157ab797a\"\n",
    "assert subscription_key\n",
    "vision_base_url = \"https://westcentralus.api.cognitive.microsoft.com/vision/v1.0\"\n",
    "ocr_url = vision_base_url + \"/ocr\"\n",
    "\n",
    "import requests\n",
    "headers  = {'Ocp-Apim-Subscription-Key': subscription_key }\n",
    "params   = {'language': 'unk', 'detectOrientation ': 'true'}\n",
    "data     = {'url': 'https://i0.wp.com/www.printablesample.com/wp-content/uploads/2017/03/Grocery-Receipt-1.jpg'}\n",
    "\n",
    "print(data)"
   ]
  },
  {
   "cell_type": "code",
   "execution_count": null,
   "metadata": {
    "collapsed": true
   },
   "outputs": [],
   "source": []
  }
 ],
 "metadata": {
  "kernelspec": {
   "display_name": "Python 3",
   "language": "python",
   "name": "python3"
  },
  "language_info": {
   "codemirror_mode": {
    "name": "ipython",
    "version": 3
   },
   "file_extension": ".py",
   "mimetype": "text/x-python",
   "name": "python",
   "nbconvert_exporter": "python",
   "pygments_lexer": "ipython3",
   "version": "3.6.3"
  }
 },
 "nbformat": 4,
 "nbformat_minor": 2
}
