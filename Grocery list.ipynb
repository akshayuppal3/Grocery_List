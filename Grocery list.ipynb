{
 "cells": [
  {
   "cell_type": "code",
   "execution_count": 2,
   "metadata": {},
   "outputs": [
    {
     "name": "stdout",
     "output_type": "stream",
     "text": [
      "['BUTTERMILK DESSERT', 'INSTANT COFFEE GOLD', 'WRAPPING PAPER', 'ORANGE JUICE  ']\n"
     ]
    }
   ],
   "source": [
    "subscription_key = \"d2cb2bb957de407082bc450157ab797a\"\n",
    "assert subscription_key\n",
    "vision_base_url = \"https://westcentralus.api.cognitive.microsoft.com/vision/v1.0\"\n",
    "ocr_url = vision_base_url + \"/ocr\"\n",
    "import requests\n",
    "headers  = {'Ocp-Apim-Subscription-Key': subscription_key }\n",
    "params   = {'language': 'unk', 'detectOrientation ': 'true'}\n",
    "data     = {'url': 'https://i0.wp.com/www.printablesample.com/wp-content/uploads/2017/03/Grocery-Receipt-1.jpg'}\n",
    "response = requests.post(ocr_url, headers=headers, params=params, json=data)\n",
    "response.raise_for_status()\n",
    "analysis = response.json() \n",
    "line_infos = [region[\"lines\"] for region in analysis[\"regions\"]]\n",
    "\n",
    "\n",
    "word_line = []\n",
    "for line in line_infos:\n",
    "     for word_metadata in line:\n",
    "        word_infos = []\n",
    "        for word_info in word_metadata[\"words\"]:  \n",
    "             word_infos.append(word_info['text'])\n",
    "        word_line.append(word_infos)\n",
    "word = []\n",
    "for i in range(0,len(word_line)):\n",
    "    word.append(' '.join(word_line[i]))\n",
    "word_corpus = ['WRAPPING PAPER', 'INSTANT COFFEE GOLD', 'TOMATO', 'ORANGE JUICE 1.5L', 'BUTTERMILK DESSERT', 'STRAWBERRIES', 'YOGURT' ,'APPLE JUICE' ]\n",
    "import re as re\n",
    "items = []\n",
    "for item in word:\n",
    "    for word in word_corpus:\n",
    "        if (item in word):\n",
    "            item = re.sub(\"[0-9][^ ]*?( |$)\", \" \", item)\n",
    "            items.append(item)    \n",
    "items = list(set(items))\n",
    "print(items)"
   ]
  },
  {
   "cell_type": "code",
   "execution_count": null,
   "metadata": {
    "collapsed": true
   },
   "outputs": [],
   "source": [
    "   "
   ]
  }
 ],
 "metadata": {
  "kernelspec": {
   "display_name": "Python 3",
   "language": "python",
   "name": "python3"
  },
  "language_info": {
   "codemirror_mode": {
    "name": "ipython",
    "version": 3
   },
   "file_extension": ".py",
   "mimetype": "text/x-python",
   "name": "python",
   "nbconvert_exporter": "python",
   "pygments_lexer": "ipython3",
   "version": "3.6.3"
  }
 },
 "nbformat": 4,
 "nbformat_minor": 2
}
